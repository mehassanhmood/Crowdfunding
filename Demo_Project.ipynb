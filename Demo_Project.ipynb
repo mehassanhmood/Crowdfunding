{
 "cells": [
  {
   "cell_type": "code",
   "execution_count": 61,
   "id": "652358ab-7b77-497e-9ed3-d8ec144792b8",
   "metadata": {},
   "outputs": [],
   "source": [
    "# importing libraries:\n",
    "import pandas as pd\n",
    "import numpy as np\n",
    "from datetime import datetime as dt\n",
    "import json\n",
    "import sqlite3\n",
    "import matplotlib.pyplot as plt\n",
    "import seaborn as sns\n",
    "import warnings \n",
    "warnings.filterwarnings('ignore')"
   ]
  },
  {
   "cell_type": "markdown",
   "id": "391b6ecd-73de-425e-809d-a4bef82c127c",
   "metadata": {},
   "source": [
    "#### Begining the ETL Process :"
   ]
  },
  {
   "cell_type": "code",
   "execution_count": 2,
   "id": "8d993853-b0cf-467a-9df1-3074bd77fe6c",
   "metadata": {},
   "outputs": [],
   "source": [
    "# establishing the connection with the local database:\n",
    "conn = sqlite3.connect('my_database.db')"
   ]
  },
  {
   "cell_type": "code",
   "execution_count": 3,
   "id": "9f514e06-79b6-495f-bbbb-41236be3066a",
   "metadata": {},
   "outputs": [
    {
     "data": {
      "text/html": [
       "<div>\n",
       "<style scoped>\n",
       "    .dataframe tbody tr th:only-of-type {\n",
       "        vertical-align: middle;\n",
       "    }\n",
       "\n",
       "    .dataframe tbody tr th {\n",
       "        vertical-align: top;\n",
       "    }\n",
       "\n",
       "    .dataframe thead th {\n",
       "        text-align: right;\n",
       "    }\n",
       "</style>\n",
       "<table border=\"1\" class=\"dataframe\">\n",
       "  <thead>\n",
       "    <tr style=\"text-align: right;\">\n",
       "      <th></th>\n",
       "      <th>cf_id</th>\n",
       "      <th>contact_id</th>\n",
       "      <th>company_name</th>\n",
       "      <th>blurb</th>\n",
       "      <th>goal</th>\n",
       "      <th>pledged</th>\n",
       "      <th>outcome</th>\n",
       "      <th>backers_count</th>\n",
       "      <th>country</th>\n",
       "      <th>currency</th>\n",
       "      <th>launched_at</th>\n",
       "      <th>deadline</th>\n",
       "      <th>staff_pick</th>\n",
       "      <th>spotlight</th>\n",
       "      <th>category &amp; sub-category</th>\n",
       "    </tr>\n",
       "  </thead>\n",
       "  <tbody>\n",
       "    <tr>\n",
       "      <th>0</th>\n",
       "      <td>147</td>\n",
       "      <td>4661</td>\n",
       "      <td>Baldwin, Riley and Jackson</td>\n",
       "      <td>Pre-emptive tertiary standardization</td>\n",
       "      <td>100</td>\n",
       "      <td>0</td>\n",
       "      <td>failed</td>\n",
       "      <td>0</td>\n",
       "      <td>CA</td>\n",
       "      <td>CAD</td>\n",
       "      <td>1581573600</td>\n",
       "      <td>1614578400</td>\n",
       "      <td>False</td>\n",
       "      <td>False</td>\n",
       "      <td>food/food trucks</td>\n",
       "    </tr>\n",
       "    <tr>\n",
       "      <th>1</th>\n",
       "      <td>1621</td>\n",
       "      <td>3765</td>\n",
       "      <td>Odom Inc</td>\n",
       "      <td>Managed bottom-line architecture</td>\n",
       "      <td>1400</td>\n",
       "      <td>14560</td>\n",
       "      <td>successful</td>\n",
       "      <td>158</td>\n",
       "      <td>US</td>\n",
       "      <td>USD</td>\n",
       "      <td>1611554400</td>\n",
       "      <td>1621918800</td>\n",
       "      <td>False</td>\n",
       "      <td>True</td>\n",
       "      <td>music/rock</td>\n",
       "    </tr>\n",
       "  </tbody>\n",
       "</table>\n",
       "</div>"
      ],
      "text/plain": [
       "   cf_id  contact_id                company_name  \\\n",
       "0    147        4661  Baldwin, Riley and Jackson   \n",
       "1   1621        3765                    Odom Inc   \n",
       "\n",
       "                                  blurb  goal  pledged     outcome  \\\n",
       "0  Pre-emptive tertiary standardization   100        0      failed   \n",
       "1      Managed bottom-line architecture  1400    14560  successful   \n",
       "\n",
       "   backers_count country currency  launched_at    deadline  staff_pick  \\\n",
       "0              0      CA      CAD   1581573600  1614578400       False   \n",
       "1            158      US      USD   1611554400  1621918800       False   \n",
       "\n",
       "   spotlight category & sub-category  \n",
       "0      False        food/food trucks  \n",
       "1       True              music/rock  "
      ]
     },
     "execution_count": 3,
     "metadata": {},
     "output_type": "execute_result"
    }
   ],
   "source": [
    "df_funding = pd.read_excel('crowdfunding.xlsx')\n",
    "df_contacts = pd.read_excel('contacts.xlsx',header=3)\n",
    "df_funding.head(2)"
   ]
  },
  {
   "cell_type": "code",
   "execution_count": 4,
   "id": "fe73ac64-01b1-4f9e-b80a-94ec611177e2",
   "metadata": {},
   "outputs": [
    {
     "data": {
      "text/plain": [
       "Index(['cf_id', 'contact_id', 'company_name', 'blurb', 'goal', 'pledged',\n",
       "       'outcome', 'backers_count', 'country', 'currency', 'launched_at',\n",
       "       'deadline', 'staff_pick', 'spotlight', 'category & sub-category'],\n",
       "      dtype='object')"
      ]
     },
     "execution_count": 4,
     "metadata": {},
     "output_type": "execute_result"
    }
   ],
   "source": [
    "df_funding.columns"
   ]
  },
  {
   "cell_type": "code",
   "execution_count": 5,
   "id": "4a666a3c-dac7-4bf9-ab80-90f93d98dc97",
   "metadata": {},
   "outputs": [
    {
     "data": {
      "text/html": [
       "<div>\n",
       "<style scoped>\n",
       "    .dataframe tbody tr th:only-of-type {\n",
       "        vertical-align: middle;\n",
       "    }\n",
       "\n",
       "    .dataframe tbody tr th {\n",
       "        vertical-align: top;\n",
       "    }\n",
       "\n",
       "    .dataframe thead th {\n",
       "        text-align: right;\n",
       "    }\n",
       "</style>\n",
       "<table border=\"1\" class=\"dataframe\">\n",
       "  <thead>\n",
       "    <tr style=\"text-align: right;\">\n",
       "      <th></th>\n",
       "      <th>cf_id</th>\n",
       "      <th>contact_id</th>\n",
       "      <th>company_name</th>\n",
       "      <th>blurb</th>\n",
       "      <th>goal</th>\n",
       "      <th>pledged</th>\n",
       "      <th>outcome</th>\n",
       "      <th>backers_count</th>\n",
       "      <th>country</th>\n",
       "      <th>currency</th>\n",
       "      <th>launched_at</th>\n",
       "      <th>deadline</th>\n",
       "      <th>staff_pick</th>\n",
       "      <th>spotlight</th>\n",
       "      <th>category &amp; sub-category</th>\n",
       "      <th>category</th>\n",
       "      <th>subcategory</th>\n",
       "    </tr>\n",
       "  </thead>\n",
       "  <tbody>\n",
       "    <tr>\n",
       "      <th>0</th>\n",
       "      <td>147</td>\n",
       "      <td>4661</td>\n",
       "      <td>Baldwin, Riley and Jackson</td>\n",
       "      <td>Pre-emptive tertiary standardization</td>\n",
       "      <td>100</td>\n",
       "      <td>0</td>\n",
       "      <td>failed</td>\n",
       "      <td>0</td>\n",
       "      <td>CA</td>\n",
       "      <td>CAD</td>\n",
       "      <td>1581573600</td>\n",
       "      <td>1614578400</td>\n",
       "      <td>False</td>\n",
       "      <td>False</td>\n",
       "      <td>food/food trucks</td>\n",
       "      <td>food</td>\n",
       "      <td>food trucks</td>\n",
       "    </tr>\n",
       "    <tr>\n",
       "      <th>1</th>\n",
       "      <td>1621</td>\n",
       "      <td>3765</td>\n",
       "      <td>Odom Inc</td>\n",
       "      <td>Managed bottom-line architecture</td>\n",
       "      <td>1400</td>\n",
       "      <td>14560</td>\n",
       "      <td>successful</td>\n",
       "      <td>158</td>\n",
       "      <td>US</td>\n",
       "      <td>USD</td>\n",
       "      <td>1611554400</td>\n",
       "      <td>1621918800</td>\n",
       "      <td>False</td>\n",
       "      <td>True</td>\n",
       "      <td>music/rock</td>\n",
       "      <td>music</td>\n",
       "      <td>rock</td>\n",
       "    </tr>\n",
       "  </tbody>\n",
       "</table>\n",
       "</div>"
      ],
      "text/plain": [
       "   cf_id  contact_id                company_name  \\\n",
       "0    147        4661  Baldwin, Riley and Jackson   \n",
       "1   1621        3765                    Odom Inc   \n",
       "\n",
       "                                  blurb  goal  pledged     outcome  \\\n",
       "0  Pre-emptive tertiary standardization   100        0      failed   \n",
       "1      Managed bottom-line architecture  1400    14560  successful   \n",
       "\n",
       "   backers_count country currency  launched_at    deadline  staff_pick  \\\n",
       "0              0      CA      CAD   1581573600  1614578400       False   \n",
       "1            158      US      USD   1611554400  1621918800       False   \n",
       "\n",
       "   spotlight category & sub-category category  subcategory  \n",
       "0      False        food/food trucks     food  food trucks  \n",
       "1       True              music/rock    music         rock  "
      ]
     },
     "execution_count": 5,
     "metadata": {},
     "output_type": "execute_result"
    }
   ],
   "source": [
    "df_funding[['category','subcategory']] = df_funding['category & sub-category'].str.split('/',n=1,expand=True)\n",
    "df_funding.head(2)"
   ]
  },
  {
   "cell_type": "code",
   "execution_count": 6,
   "id": "bf745dc9-d560-4992-8c81-d53771df40a8",
   "metadata": {},
   "outputs": [
    {
     "name": "stdout",
     "output_type": "stream",
     "text": [
      "categories: 9\n",
      "subcategories: 24\n"
     ]
    }
   ],
   "source": [
    "# After visualizing the first two rows following Transformation are required:\n",
    "# categories and subcategories are to seperated and a seperated data frame is to be created for the sql database.\n",
    "# few columns have to be renamed:\n",
    "## checking how many categories and subcategories are present do that we can tag them.\n",
    "categories = df_funding[\"category\"].unique()\n",
    "subcategories = df_funding[\"subcategory\"].unique()\n",
    "print(f'categories: {len(categories)}\\nsubcategories: {len(subcategories)}')"
   ]
  },
  {
   "cell_type": "code",
   "execution_count": 7,
   "id": "4868b026-379d-4acd-84b0-eaeff983dc43",
   "metadata": {},
   "outputs": [],
   "source": [
    "category_ids = np.arange(1,10)\n",
    "subcategories = np.arange(1,25)"
   ]
  },
  {
   "cell_type": "code",
   "execution_count": 8,
   "id": "10e23512-af0f-4edb-9aab-3ff3885d38b5",
   "metadata": {},
   "outputs": [],
   "source": [
    "cat_ids = ['cat' + str(i) for i in category_ids]\n",
    "subcat_ids = ['subcat'+str(i) for i in subcategories]"
   ]
  },
  {
   "cell_type": "code",
   "execution_count": 9,
   "id": "5006a76b-c74c-4e22-ab59-4dd2a4a7cf3e",
   "metadata": {},
   "outputs": [],
   "source": [
    "df_category = pd.DataFrame({\n",
    "    'category_id' : cat_ids,\n",
    "    'category' : categories\n",
    "})\n",
    "df_subcategory = pd.DataFrame({\n",
    "    'subcategory_ids' : subcat_ids,\n",
    "    'subcategories': subcategories\n",
    "})"
   ]
  },
  {
   "cell_type": "code",
   "execution_count": 10,
   "id": "f5ac33f1-2895-49b4-88ff-b52448c38956",
   "metadata": {},
   "outputs": [
    {
     "data": {
      "text/plain": [
       "24"
      ]
     },
     "execution_count": 10,
     "metadata": {},
     "output_type": "execute_result"
    }
   ],
   "source": [
    "# Now that we have the seperate dataframes,the next step is to save them as csv and in the database.\n",
    "df_category.to_csv('cleaned_data/category.csv',index = False)\n",
    "df_category.to_sql('category',conn,if_exists='replace')\n",
    "df_subcategory.to_csv('cleaned_data/subcategory.csv',index=False)\n",
    "df_subcategory.to_sql('subcategory',conn,if_exists='replace')"
   ]
  },
  {
   "cell_type": "code",
   "execution_count": 11,
   "id": "28dd6206-5e92-4850-bd2a-77cfc7d89e31",
   "metadata": {},
   "outputs": [],
   "source": [
    "df_campaign = df_funding.copy()"
   ]
  },
  {
   "cell_type": "code",
   "execution_count": 12,
   "id": "60fee158-9bca-4bd0-9683-26f01839138a",
   "metadata": {},
   "outputs": [
    {
     "data": {
      "text/html": [
       "<div>\n",
       "<style scoped>\n",
       "    .dataframe tbody tr th:only-of-type {\n",
       "        vertical-align: middle;\n",
       "    }\n",
       "\n",
       "    .dataframe tbody tr th {\n",
       "        vertical-align: top;\n",
       "    }\n",
       "\n",
       "    .dataframe thead th {\n",
       "        text-align: right;\n",
       "    }\n",
       "</style>\n",
       "<table border=\"1\" class=\"dataframe\">\n",
       "  <thead>\n",
       "    <tr style=\"text-align: right;\">\n",
       "      <th></th>\n",
       "      <th>cf_id</th>\n",
       "      <th>contact_id</th>\n",
       "      <th>company_name</th>\n",
       "      <th>description</th>\n",
       "      <th>goal</th>\n",
       "      <th>pledged</th>\n",
       "      <th>outcome</th>\n",
       "      <th>backers_count</th>\n",
       "      <th>country</th>\n",
       "      <th>currency</th>\n",
       "      <th>launch_date</th>\n",
       "      <th>end_date</th>\n",
       "      <th>staff_pick</th>\n",
       "      <th>spotlight</th>\n",
       "      <th>category &amp; sub-category</th>\n",
       "      <th>category</th>\n",
       "      <th>subcategory</th>\n",
       "    </tr>\n",
       "  </thead>\n",
       "  <tbody>\n",
       "    <tr>\n",
       "      <th>0</th>\n",
       "      <td>147</td>\n",
       "      <td>4661</td>\n",
       "      <td>Baldwin, Riley and Jackson</td>\n",
       "      <td>Pre-emptive tertiary standardization</td>\n",
       "      <td>100</td>\n",
       "      <td>0</td>\n",
       "      <td>failed</td>\n",
       "      <td>0</td>\n",
       "      <td>CA</td>\n",
       "      <td>CAD</td>\n",
       "      <td>1581573600</td>\n",
       "      <td>1614578400</td>\n",
       "      <td>False</td>\n",
       "      <td>False</td>\n",
       "      <td>food/food trucks</td>\n",
       "      <td>food</td>\n",
       "      <td>food trucks</td>\n",
       "    </tr>\n",
       "    <tr>\n",
       "      <th>1</th>\n",
       "      <td>1621</td>\n",
       "      <td>3765</td>\n",
       "      <td>Odom Inc</td>\n",
       "      <td>Managed bottom-line architecture</td>\n",
       "      <td>1400</td>\n",
       "      <td>14560</td>\n",
       "      <td>successful</td>\n",
       "      <td>158</td>\n",
       "      <td>US</td>\n",
       "      <td>USD</td>\n",
       "      <td>1611554400</td>\n",
       "      <td>1621918800</td>\n",
       "      <td>False</td>\n",
       "      <td>True</td>\n",
       "      <td>music/rock</td>\n",
       "      <td>music</td>\n",
       "      <td>rock</td>\n",
       "    </tr>\n",
       "  </tbody>\n",
       "</table>\n",
       "</div>"
      ],
      "text/plain": [
       "   cf_id  contact_id                company_name  \\\n",
       "0    147        4661  Baldwin, Riley and Jackson   \n",
       "1   1621        3765                    Odom Inc   \n",
       "\n",
       "                            description  goal  pledged     outcome  \\\n",
       "0  Pre-emptive tertiary standardization   100        0      failed   \n",
       "1      Managed bottom-line architecture  1400    14560  successful   \n",
       "\n",
       "   backers_count country currency  launch_date    end_date  staff_pick  \\\n",
       "0              0      CA      CAD   1581573600  1614578400       False   \n",
       "1            158      US      USD   1611554400  1621918800       False   \n",
       "\n",
       "   spotlight category & sub-category category  subcategory  \n",
       "0      False        food/food trucks     food  food trucks  \n",
       "1       True              music/rock    music         rock  "
      ]
     },
     "execution_count": 12,
     "metadata": {},
     "output_type": "execute_result"
    }
   ],
   "source": [
    "# columns that were to be renamed :\n",
    "df_campaign = df_campaign.rename(columns={'blurb':'description','launched_at':'launch_date','deadline':'end_date'})\n",
    "df_campaign.head(2)"
   ]
  },
  {
   "cell_type": "code",
   "execution_count": 13,
   "id": "cab3f54f-7a2e-41cf-8766-8702f10c812a",
   "metadata": {},
   "outputs": [],
   "source": [
    "def preprocessing_data(data):\n",
    "    '''\n",
    "    This function acts as a pipeline on the dataframe provided.\n",
    "    Following procedures are executed and findings are reported :\n",
    "    1 - It looks for nulls and report them if found.\n",
    "    2 - It looks for any duplicate, and reports them if found.\n",
    "    3 - If there are any columns with data type as object it reports them to verify if they are categorical in nature or\n",
    "    do they need to be casted in their appropriate data type.\n",
    "    4 - It scans for column names and see if there is 'date' mentioned any where and reports those columns,\n",
    "    in order to make any necessary changes.\n",
    "    5 - Finally it prints out the findings and returns the dataset.\n",
    "    '''\n",
    "#     The following code handles null values\n",
    "    null_values = data.isnull().sum()\n",
    "\n",
    "    null_columns = []\n",
    "    if any(null_values) > 0:\n",
    "        print('The following columns have null values:')\n",
    "    else:\n",
    "        print('No null values were found.')\n",
    "    for i,x in null_values.items():\n",
    "        if x > 0:\n",
    "            print(i)\n",
    "            null_values.append(i)\n",
    "#     The following section checks for duplicates and then removes them.\n",
    "    duplicates_present = data.duplicated().sum()\n",
    "    if duplicates_present > 0:\n",
    "        print('The data contains duplicate rows, which will be dropped.')\n",
    "    else :\n",
    "        print('No duplicates were found.')\n",
    "    data = data.drop_duplicates()\n",
    "#     The following code yields if there are columns with categorical \n",
    "#     values and prints them out.\n",
    "    data_type = data.dtypes\n",
    "    categorical_columns = []\n",
    "    for i,x in data_type.items():\n",
    "        if x == 'object':\n",
    "            categorical_columns.append(i)\n",
    "    print(f'Folowing columns have categorical values: {categorical_columns}')\n",
    "#     This code yields if there is any columns with date in name so we check if the \n",
    "#     appropriate format is applied:\n",
    "    date_columns=list(data.columns[data.columns.str.contains('date',case=False)])\n",
    "    if len(date_columns) != 0:\n",
    "        print(f'Confirm the appropriate data types of the following columns:\\n{date_columns}')\n",
    "        \n",
    "    return data\n",
    "            "
   ]
  },
  {
   "cell_type": "code",
   "execution_count": 14,
   "id": "1f225ddc-1c2f-4ff4-ab07-7a1926e2df45",
   "metadata": {},
   "outputs": [
    {
     "name": "stdout",
     "output_type": "stream",
     "text": [
      "No null values were found.\n",
      "No duplicates were found.\n",
      "Folowing columns have categorical values: ['company_name', 'description', 'outcome', 'country', 'currency', 'category & sub-category', 'category', 'subcategory']\n",
      "Confirm the appropriate data types of the following columns:\n",
      "['launch_date', 'end_date']\n"
     ]
    }
   ],
   "source": [
    "data = preprocessing_data(df_campaign)"
   ]
  },
  {
   "cell_type": "markdown",
   "id": "3812a8f3-7690-45ab-b673-b89acc5983e1",
   "metadata": {},
   "source": [
    "### Lets investigate the findings :"
   ]
  },
  {
   "cell_type": "code",
   "execution_count": 15,
   "id": "3ebe89c0-2ecd-421f-98e2-71422a4b0a0d",
   "metadata": {},
   "outputs": [
    {
     "data": {
      "text/html": [
       "<div>\n",
       "<style scoped>\n",
       "    .dataframe tbody tr th:only-of-type {\n",
       "        vertical-align: middle;\n",
       "    }\n",
       "\n",
       "    .dataframe tbody tr th {\n",
       "        vertical-align: top;\n",
       "    }\n",
       "\n",
       "    .dataframe thead th {\n",
       "        text-align: right;\n",
       "    }\n",
       "</style>\n",
       "<table border=\"1\" class=\"dataframe\">\n",
       "  <thead>\n",
       "    <tr style=\"text-align: right;\">\n",
       "      <th></th>\n",
       "      <th>launch_date</th>\n",
       "      <th>end_date</th>\n",
       "    </tr>\n",
       "  </thead>\n",
       "  <tbody>\n",
       "    <tr>\n",
       "      <th>0</th>\n",
       "      <td>1581573600</td>\n",
       "      <td>1614578400</td>\n",
       "    </tr>\n",
       "    <tr>\n",
       "      <th>1</th>\n",
       "      <td>1611554400</td>\n",
       "      <td>1621918800</td>\n",
       "    </tr>\n",
       "  </tbody>\n",
       "</table>\n",
       "</div>"
      ],
      "text/plain": [
       "   launch_date    end_date\n",
       "0   1581573600  1614578400\n",
       "1   1611554400  1621918800"
      ]
     },
     "execution_count": 15,
     "metadata": {},
     "output_type": "execute_result"
    }
   ],
   "source": [
    "data[['launch_date','end_date']][:2]"
   ]
  },
  {
   "cell_type": "code",
   "execution_count": 16,
   "id": "78af3bed-c3ac-4ee0-a486-e9364fdbb637",
   "metadata": {},
   "outputs": [],
   "source": [
    "# According to the pipeline the categorical columns by name should be categorical and as our finding \n",
    "# confirms that launch_date and end_date needs to be formatted."
   ]
  },
  {
   "cell_type": "code",
   "execution_count": 17,
   "id": "b09075e5-183e-41c1-a002-52b25bea83e8",
   "metadata": {},
   "outputs": [],
   "source": [
    "# Formatting launch_date columns and end_date columns accordingly:\n",
    "data['launch_date'] = pd.to_datetime(data['launch_date'],unit='s').dt.strftime('%Y-%m-%d')\n",
    "data['end_date'] = pd.to_datetime(data['end_date'],unit='s').dt.strftime('%Y-%m-%d')"
   ]
  },
  {
   "cell_type": "code",
   "execution_count": 18,
   "id": "a69f5bb3-6ac6-4b80-a701-98ad13a851cf",
   "metadata": {},
   "outputs": [],
   "source": [
    "# The next step would be to drop colums that are not required :\n",
    "data_cleaned = data.drop(columns =['staff_pick', 'spotlight', 'category & sub-category'])"
   ]
  },
  {
   "cell_type": "code",
   "execution_count": 19,
   "id": "4a1869c2-97a9-4f12-b72d-53858897ed58",
   "metadata": {},
   "outputs": [
    {
     "data": {
      "text/plain": [
       "Index(['cf_id', 'contact_id', 'company_name', 'description', 'goal', 'pledged',\n",
       "       'outcome', 'backers_count', 'country', 'currency', 'launch_date',\n",
       "       'end_date', 'category', 'subcategory'],\n",
       "      dtype='object')"
      ]
     },
     "execution_count": 19,
     "metadata": {},
     "output_type": "execute_result"
    }
   ],
   "source": [
    "data_cleaned.columns"
   ]
  },
  {
   "cell_type": "code",
   "execution_count": 20,
   "id": "c07d156d-81f7-4960-8d66-8584c0393633",
   "metadata": {},
   "outputs": [],
   "source": [
    "# saving the campaign data as csv and in database:\n",
    "data_cleaned.to_sql('cleaned_campaignData',conn,if_exists='replace')\n",
    "data_cleaned.to_csv('cleaned_data/cleaned_campaignData.csv',index=False)"
   ]
  },
  {
   "cell_type": "markdown",
   "id": "27615be0-8b89-4731-8df5-559c60742323",
   "metadata": {},
   "source": [
    "### Exploring the contacts data :"
   ]
  },
  {
   "cell_type": "code",
   "execution_count": 21,
   "id": "a6582a4e-4763-4fbb-bccd-7038f3091192",
   "metadata": {},
   "outputs": [
    {
     "data": {
      "text/html": [
       "<div>\n",
       "<style scoped>\n",
       "    .dataframe tbody tr th:only-of-type {\n",
       "        vertical-align: middle;\n",
       "    }\n",
       "\n",
       "    .dataframe tbody tr th {\n",
       "        vertical-align: top;\n",
       "    }\n",
       "\n",
       "    .dataframe thead th {\n",
       "        text-align: right;\n",
       "    }\n",
       "</style>\n",
       "<table border=\"1\" class=\"dataframe\">\n",
       "  <thead>\n",
       "    <tr style=\"text-align: right;\">\n",
       "      <th></th>\n",
       "      <th>contact_info</th>\n",
       "    </tr>\n",
       "  </thead>\n",
       "  <tbody>\n",
       "    <tr>\n",
       "      <th>0</th>\n",
       "      <td>{\"contact_id\": 4661, \"name\": \"Cecilia Velasco\"...</td>\n",
       "    </tr>\n",
       "    <tr>\n",
       "      <th>1</th>\n",
       "      <td>{\"contact_id\": 3765, \"name\": \"Mariana Ellis\", ...</td>\n",
       "    </tr>\n",
       "  </tbody>\n",
       "</table>\n",
       "</div>"
      ],
      "text/plain": [
       "                                        contact_info\n",
       "0  {\"contact_id\": 4661, \"name\": \"Cecilia Velasco\"...\n",
       "1  {\"contact_id\": 3765, \"name\": \"Mariana Ellis\", ..."
      ]
     },
     "execution_count": 21,
     "metadata": {},
     "output_type": "execute_result"
    }
   ],
   "source": [
    "df_contacts.head(2)"
   ]
  },
  {
   "cell_type": "code",
   "execution_count": 22,
   "id": "44862024-2999-47a5-aace-2268283345cd",
   "metadata": {},
   "outputs": [],
   "source": [
    "# transfroming the data:\n",
    "values = []\n",
    "for i in df_contacts['contact_info']:\n",
    "    x = json.loads(i)\n",
    "    values.append(x.values())\n",
    "df_contact = pd.DataFrame(values,columns=['contact_id', 'name', 'email'])"
   ]
  },
  {
   "cell_type": "code",
   "execution_count": 23,
   "id": "2500a455-6f0b-4cca-9e7f-8170f9c59914",
   "metadata": {},
   "outputs": [
    {
     "data": {
      "text/html": [
       "<div>\n",
       "<style scoped>\n",
       "    .dataframe tbody tr th:only-of-type {\n",
       "        vertical-align: middle;\n",
       "    }\n",
       "\n",
       "    .dataframe tbody tr th {\n",
       "        vertical-align: top;\n",
       "    }\n",
       "\n",
       "    .dataframe thead th {\n",
       "        text-align: right;\n",
       "    }\n",
       "</style>\n",
       "<table border=\"1\" class=\"dataframe\">\n",
       "  <thead>\n",
       "    <tr style=\"text-align: right;\">\n",
       "      <th></th>\n",
       "      <th>contact_id</th>\n",
       "      <th>name</th>\n",
       "      <th>email</th>\n",
       "    </tr>\n",
       "  </thead>\n",
       "  <tbody>\n",
       "    <tr>\n",
       "      <th>0</th>\n",
       "      <td>4661</td>\n",
       "      <td>Cecilia Velasco</td>\n",
       "      <td>cecilia.velasco@rodrigues.fr</td>\n",
       "    </tr>\n",
       "    <tr>\n",
       "      <th>1</th>\n",
       "      <td>3765</td>\n",
       "      <td>Mariana Ellis</td>\n",
       "      <td>mariana.ellis@rossi.org</td>\n",
       "    </tr>\n",
       "  </tbody>\n",
       "</table>\n",
       "</div>"
      ],
      "text/plain": [
       "   contact_id             name                         email\n",
       "0        4661  Cecilia Velasco  cecilia.velasco@rodrigues.fr\n",
       "1        3765    Mariana Ellis       mariana.ellis@rossi.org"
      ]
     },
     "execution_count": 23,
     "metadata": {},
     "output_type": "execute_result"
    }
   ],
   "source": [
    "df_contact.head(2)"
   ]
  },
  {
   "cell_type": "code",
   "execution_count": 24,
   "id": "c5a10367-2020-4784-b1cd-739c0eb13bfb",
   "metadata": {},
   "outputs": [],
   "source": [
    "# The next step is to split the name data into first name and last name:\n",
    "df_contact[['first_name','last_name']] = df_contact.name.str.split(' ',n=1,expand=True)"
   ]
  },
  {
   "cell_type": "code",
   "execution_count": 25,
   "id": "343ddc21-5fba-4431-a7cf-64918ddff608",
   "metadata": {},
   "outputs": [],
   "source": [
    "df_contact.drop(columns='name',inplace=True)"
   ]
  },
  {
   "cell_type": "code",
   "execution_count": 26,
   "id": "1e9fb73a-4c62-4769-949f-adbc725576f1",
   "metadata": {},
   "outputs": [
    {
     "data": {
      "text/html": [
       "<div>\n",
       "<style scoped>\n",
       "    .dataframe tbody tr th:only-of-type {\n",
       "        vertical-align: middle;\n",
       "    }\n",
       "\n",
       "    .dataframe tbody tr th {\n",
       "        vertical-align: top;\n",
       "    }\n",
       "\n",
       "    .dataframe thead th {\n",
       "        text-align: right;\n",
       "    }\n",
       "</style>\n",
       "<table border=\"1\" class=\"dataframe\">\n",
       "  <thead>\n",
       "    <tr style=\"text-align: right;\">\n",
       "      <th></th>\n",
       "      <th>contact_id</th>\n",
       "      <th>email</th>\n",
       "      <th>first_name</th>\n",
       "      <th>last_name</th>\n",
       "    </tr>\n",
       "  </thead>\n",
       "  <tbody>\n",
       "    <tr>\n",
       "      <th>0</th>\n",
       "      <td>4661</td>\n",
       "      <td>cecilia.velasco@rodrigues.fr</td>\n",
       "      <td>Cecilia</td>\n",
       "      <td>Velasco</td>\n",
       "    </tr>\n",
       "    <tr>\n",
       "      <th>1</th>\n",
       "      <td>3765</td>\n",
       "      <td>mariana.ellis@rossi.org</td>\n",
       "      <td>Mariana</td>\n",
       "      <td>Ellis</td>\n",
       "    </tr>\n",
       "    <tr>\n",
       "      <th>2</th>\n",
       "      <td>4187</td>\n",
       "      <td>sofie.woods@riviere.com</td>\n",
       "      <td>Sofie</td>\n",
       "      <td>Woods</td>\n",
       "    </tr>\n",
       "    <tr>\n",
       "      <th>3</th>\n",
       "      <td>4941</td>\n",
       "      <td>jeanette.iannotti@yahoo.com</td>\n",
       "      <td>Jeanette</td>\n",
       "      <td>Iannotti</td>\n",
       "    </tr>\n",
       "    <tr>\n",
       "      <th>4</th>\n",
       "      <td>2199</td>\n",
       "      <td>samuel.sorgatz@gmail.com</td>\n",
       "      <td>Samuel</td>\n",
       "      <td>Sorgatz</td>\n",
       "    </tr>\n",
       "  </tbody>\n",
       "</table>\n",
       "</div>"
      ],
      "text/plain": [
       "   contact_id                         email first_name last_name\n",
       "0        4661  cecilia.velasco@rodrigues.fr    Cecilia   Velasco\n",
       "1        3765       mariana.ellis@rossi.org    Mariana     Ellis\n",
       "2        4187       sofie.woods@riviere.com      Sofie     Woods\n",
       "3        4941   jeanette.iannotti@yahoo.com   Jeanette  Iannotti\n",
       "4        2199      samuel.sorgatz@gmail.com     Samuel   Sorgatz"
      ]
     },
     "execution_count": 26,
     "metadata": {},
     "output_type": "execute_result"
    }
   ],
   "source": [
    "df_contact.head()"
   ]
  },
  {
   "cell_type": "code",
   "execution_count": 27,
   "id": "203c0856-9ee2-4e96-bc7b-309301d4d758",
   "metadata": {},
   "outputs": [
    {
     "data": {
      "text/html": [
       "<div>\n",
       "<style scoped>\n",
       "    .dataframe tbody tr th:only-of-type {\n",
       "        vertical-align: middle;\n",
       "    }\n",
       "\n",
       "    .dataframe tbody tr th {\n",
       "        vertical-align: top;\n",
       "    }\n",
       "\n",
       "    .dataframe thead th {\n",
       "        text-align: right;\n",
       "    }\n",
       "</style>\n",
       "<table border=\"1\" class=\"dataframe\">\n",
       "  <thead>\n",
       "    <tr style=\"text-align: right;\">\n",
       "      <th></th>\n",
       "      <th>contact_id</th>\n",
       "      <th>first_name</th>\n",
       "      <th>last_name</th>\n",
       "      <th>email</th>\n",
       "    </tr>\n",
       "  </thead>\n",
       "  <tbody>\n",
       "    <tr>\n",
       "      <th>0</th>\n",
       "      <td>4661</td>\n",
       "      <td>Cecilia</td>\n",
       "      <td>Velasco</td>\n",
       "      <td>cecilia.velasco@rodrigues.fr</td>\n",
       "    </tr>\n",
       "    <tr>\n",
       "      <th>1</th>\n",
       "      <td>3765</td>\n",
       "      <td>Mariana</td>\n",
       "      <td>Ellis</td>\n",
       "      <td>mariana.ellis@rossi.org</td>\n",
       "    </tr>\n",
       "  </tbody>\n",
       "</table>\n",
       "</div>"
      ],
      "text/plain": [
       "   contact_id first_name last_name                         email\n",
       "0        4661    Cecilia   Velasco  cecilia.velasco@rodrigues.fr\n",
       "1        3765    Mariana     Ellis       mariana.ellis@rossi.org"
      ]
     },
     "execution_count": 27,
     "metadata": {},
     "output_type": "execute_result"
    }
   ],
   "source": [
    "# Reorganizing the columns:\n",
    "cleaned_contacts = df_contact[['contact_id','first_name', 'last_name', 'email']]\n",
    "cleaned_contacts.head(2)                              "
   ]
  },
  {
   "cell_type": "code",
   "execution_count": 28,
   "id": "903c5782-a215-4e11-b133-bfb673588b24",
   "metadata": {},
   "outputs": [
    {
     "data": {
      "text/plain": [
       "1000"
      ]
     },
     "execution_count": 28,
     "metadata": {},
     "output_type": "execute_result"
    }
   ],
   "source": [
    "# Loading the transformed data :\n",
    "cleaned_contacts.to_csv('cleaned_data/contacts_cleaned.csv',encoding='utf8',index=False)\n",
    "cleaned_contacts.to_sql('contacts_cleaned',conn,if_exists='replace')"
   ]
  },
  {
   "cell_type": "code",
   "execution_count": 29,
   "id": "b5096862-9627-439b-bb58-b52235cda789",
   "metadata": {},
   "outputs": [],
   "source": [
    "# closing the database connection.\n",
    "conn.close()"
   ]
  },
  {
   "cell_type": "markdown",
   "id": "e739cfc1-2dde-49c7-abce-d0abeb1142d2",
   "metadata": {},
   "source": [
    "### Now that we are done with ETL process, the next step would be to initiate EDA :"
   ]
  },
  {
   "cell_type": "code",
   "execution_count": 30,
   "id": "5a96ad32-0b6c-4109-9bdd-f2a3fb799b5c",
   "metadata": {},
   "outputs": [],
   "source": [
    "# establishing the connection again to retrieve data \n",
    "conn = sqlite3.connect('my_database.db')"
   ]
  },
  {
   "cell_type": "code",
   "execution_count": 31,
   "id": "6d86df99-c3f2-4814-8b6a-d88398967f63",
   "metadata": {},
   "outputs": [],
   "source": [
    "df = pd.read_sql_query('SELECT * FROM cleaned_campaignData',conn)"
   ]
  },
  {
   "cell_type": "code",
   "execution_count": 32,
   "id": "121a5b90-8bcf-4dd8-9a4d-a2521d864eae",
   "metadata": {},
   "outputs": [
    {
     "data": {
      "text/html": [
       "<div>\n",
       "<style scoped>\n",
       "    .dataframe tbody tr th:only-of-type {\n",
       "        vertical-align: middle;\n",
       "    }\n",
       "\n",
       "    .dataframe tbody tr th {\n",
       "        vertical-align: top;\n",
       "    }\n",
       "\n",
       "    .dataframe thead th {\n",
       "        text-align: right;\n",
       "    }\n",
       "</style>\n",
       "<table border=\"1\" class=\"dataframe\">\n",
       "  <thead>\n",
       "    <tr style=\"text-align: right;\">\n",
       "      <th></th>\n",
       "      <th>index</th>\n",
       "      <th>cf_id</th>\n",
       "      <th>contact_id</th>\n",
       "      <th>company_name</th>\n",
       "      <th>description</th>\n",
       "      <th>goal</th>\n",
       "      <th>pledged</th>\n",
       "      <th>outcome</th>\n",
       "      <th>backers_count</th>\n",
       "      <th>country</th>\n",
       "      <th>currency</th>\n",
       "      <th>launch_date</th>\n",
       "      <th>end_date</th>\n",
       "      <th>category</th>\n",
       "      <th>subcategory</th>\n",
       "    </tr>\n",
       "  </thead>\n",
       "  <tbody>\n",
       "    <tr>\n",
       "      <th>0</th>\n",
       "      <td>0</td>\n",
       "      <td>147</td>\n",
       "      <td>4661</td>\n",
       "      <td>Baldwin, Riley and Jackson</td>\n",
       "      <td>Pre-emptive tertiary standardization</td>\n",
       "      <td>100</td>\n",
       "      <td>0</td>\n",
       "      <td>failed</td>\n",
       "      <td>0</td>\n",
       "      <td>CA</td>\n",
       "      <td>CAD</td>\n",
       "      <td>2020-02-13</td>\n",
       "      <td>2021-03-01</td>\n",
       "      <td>food</td>\n",
       "      <td>food trucks</td>\n",
       "    </tr>\n",
       "    <tr>\n",
       "      <th>1</th>\n",
       "      <td>1</td>\n",
       "      <td>1621</td>\n",
       "      <td>3765</td>\n",
       "      <td>Odom Inc</td>\n",
       "      <td>Managed bottom-line architecture</td>\n",
       "      <td>1400</td>\n",
       "      <td>14560</td>\n",
       "      <td>successful</td>\n",
       "      <td>158</td>\n",
       "      <td>US</td>\n",
       "      <td>USD</td>\n",
       "      <td>2021-01-25</td>\n",
       "      <td>2021-05-25</td>\n",
       "      <td>music</td>\n",
       "      <td>rock</td>\n",
       "    </tr>\n",
       "  </tbody>\n",
       "</table>\n",
       "</div>"
      ],
      "text/plain": [
       "   index  cf_id  contact_id                company_name  \\\n",
       "0      0    147        4661  Baldwin, Riley and Jackson   \n",
       "1      1   1621        3765                    Odom Inc   \n",
       "\n",
       "                            description  goal  pledged     outcome  \\\n",
       "0  Pre-emptive tertiary standardization   100        0      failed   \n",
       "1      Managed bottom-line architecture  1400    14560  successful   \n",
       "\n",
       "   backers_count country currency launch_date    end_date category  \\\n",
       "0              0      CA      CAD  2020-02-13  2021-03-01     food   \n",
       "1            158      US      USD  2021-01-25  2021-05-25    music   \n",
       "\n",
       "   subcategory  \n",
       "0  food trucks  \n",
       "1         rock  "
      ]
     },
     "execution_count": 32,
     "metadata": {},
     "output_type": "execute_result"
    }
   ],
   "source": [
    "# lets visualize the data:\n",
    "df.head(2)"
   ]
  },
  {
   "cell_type": "code",
   "execution_count": 33,
   "id": "79780a33-a2bc-4f10-a8c2-d0a707fe346f",
   "metadata": {},
   "outputs": [
    {
     "data": {
      "text/plain": [
       "Index(['index', 'cf_id', 'contact_id', 'company_name', 'description', 'goal',\n",
       "       'pledged', 'outcome', 'backers_count', 'country', 'currency',\n",
       "       'launch_date', 'end_date', 'category', 'subcategory'],\n",
       "      dtype='object')"
      ]
     },
     "execution_count": 33,
     "metadata": {},
     "output_type": "execute_result"
    }
   ],
   "source": [
    "# Going through the columns to select the unwanted columns and drop them:\n",
    "df.columns"
   ]
  },
  {
   "cell_type": "code",
   "execution_count": 34,
   "id": "593c189d-087e-4e9b-9e8c-d1f549f36d6f",
   "metadata": {},
   "outputs": [],
   "source": [
    "# dropping the columns:\n",
    "drop_columns = ['description','cf_id','index','currency','contact_id']"
   ]
  },
  {
   "cell_type": "code",
   "execution_count": 35,
   "id": "03e02eba-545b-427b-9a60-530ba1874cb4",
   "metadata": {},
   "outputs": [],
   "source": [
    "df = df.drop(columns=drop_columns)"
   ]
  },
  {
   "cell_type": "code",
   "execution_count": 36,
   "id": "3f9d255e-5fdb-476a-be61-ce2c18e3b78c",
   "metadata": {},
   "outputs": [
    {
     "data": {
      "text/html": [
       "<div>\n",
       "<style scoped>\n",
       "    .dataframe tbody tr th:only-of-type {\n",
       "        vertical-align: middle;\n",
       "    }\n",
       "\n",
       "    .dataframe tbody tr th {\n",
       "        vertical-align: top;\n",
       "    }\n",
       "\n",
       "    .dataframe thead th {\n",
       "        text-align: right;\n",
       "    }\n",
       "</style>\n",
       "<table border=\"1\" class=\"dataframe\">\n",
       "  <thead>\n",
       "    <tr style=\"text-align: right;\">\n",
       "      <th></th>\n",
       "      <th>company_name</th>\n",
       "      <th>goal</th>\n",
       "      <th>pledged</th>\n",
       "      <th>outcome</th>\n",
       "      <th>backers_count</th>\n",
       "      <th>country</th>\n",
       "      <th>launch_date</th>\n",
       "      <th>end_date</th>\n",
       "      <th>category</th>\n",
       "      <th>subcategory</th>\n",
       "    </tr>\n",
       "  </thead>\n",
       "  <tbody>\n",
       "    <tr>\n",
       "      <th>0</th>\n",
       "      <td>Baldwin, Riley and Jackson</td>\n",
       "      <td>100</td>\n",
       "      <td>0</td>\n",
       "      <td>failed</td>\n",
       "      <td>0</td>\n",
       "      <td>CA</td>\n",
       "      <td>2020-02-13</td>\n",
       "      <td>2021-03-01</td>\n",
       "      <td>food</td>\n",
       "      <td>food trucks</td>\n",
       "    </tr>\n",
       "    <tr>\n",
       "      <th>1</th>\n",
       "      <td>Odom Inc</td>\n",
       "      <td>1400</td>\n",
       "      <td>14560</td>\n",
       "      <td>successful</td>\n",
       "      <td>158</td>\n",
       "      <td>US</td>\n",
       "      <td>2021-01-25</td>\n",
       "      <td>2021-05-25</td>\n",
       "      <td>music</td>\n",
       "      <td>rock</td>\n",
       "    </tr>\n",
       "  </tbody>\n",
       "</table>\n",
       "</div>"
      ],
      "text/plain": [
       "                 company_name  goal  pledged     outcome  backers_count  \\\n",
       "0  Baldwin, Riley and Jackson   100        0      failed              0   \n",
       "1                    Odom Inc  1400    14560  successful            158   \n",
       "\n",
       "  country launch_date    end_date category  subcategory  \n",
       "0      CA  2020-02-13  2021-03-01     food  food trucks  \n",
       "1      US  2021-01-25  2021-05-25    music         rock  "
      ]
     },
     "execution_count": 36,
     "metadata": {},
     "output_type": "execute_result"
    }
   ],
   "source": [
    "df.head(2)"
   ]
  },
  {
   "cell_type": "code",
   "execution_count": 37,
   "id": "77a1d884-7bb0-48a1-bc8b-8e9169768e73",
   "metadata": {},
   "outputs": [
    {
     "name": "stdout",
     "output_type": "stream",
     "text": [
      "company_name      Jackson Inc\n",
      "goal                   196900\n",
      "pledged                199110\n",
      "outcome            successful\n",
      "backers_count            2053\n",
      "country                    US\n",
      "launch_date        2020-12-07\n",
      "end_date           2021-08-21\n",
      "category         film & video\n",
      "subcategory       documentary\n",
      "Name: 208, dtype: object\n"
     ]
    }
   ],
   "source": [
    "# maximum pledged by a single company:\n",
    "for i,x in df.iterrows():\n",
    "    if x['pledged'] == df['pledged'].max():\n",
    "        print(x)"
   ]
  },
  {
   "cell_type": "code",
   "execution_count": 38,
   "id": "a3cf15da-fd16-4991-874e-4dd38a80fed7",
   "metadata": {},
   "outputs": [
    {
     "data": {
      "text/html": [
       "<div>\n",
       "<style scoped>\n",
       "    .dataframe tbody tr th:only-of-type {\n",
       "        vertical-align: middle;\n",
       "    }\n",
       "\n",
       "    .dataframe tbody tr th {\n",
       "        vertical-align: top;\n",
       "    }\n",
       "\n",
       "    .dataframe thead th {\n",
       "        text-align: right;\n",
       "    }\n",
       "</style>\n",
       "<table border=\"1\" class=\"dataframe\">\n",
       "  <thead>\n",
       "    <tr style=\"text-align: right;\">\n",
       "      <th></th>\n",
       "      <th>goal</th>\n",
       "      <th>pledged</th>\n",
       "      <th>backers_count</th>\n",
       "    </tr>\n",
       "    <tr>\n",
       "      <th>category</th>\n",
       "      <th></th>\n",
       "      <th></th>\n",
       "      <th></th>\n",
       "    </tr>\n",
       "  </thead>\n",
       "  <tbody>\n",
       "    <tr>\n",
       "      <th>film &amp; video</th>\n",
       "      <td>8744700</td>\n",
       "      <td>7510076</td>\n",
       "      <td>121875</td>\n",
       "    </tr>\n",
       "    <tr>\n",
       "      <th>food</th>\n",
       "      <td>1921300</td>\n",
       "      <td>1735179</td>\n",
       "      <td>28846</td>\n",
       "    </tr>\n",
       "    <tr>\n",
       "      <th>games</th>\n",
       "      <td>2858000</td>\n",
       "      <td>2015817</td>\n",
       "      <td>37662</td>\n",
       "    </tr>\n",
       "    <tr>\n",
       "      <th>journalism</th>\n",
       "      <td>25700</td>\n",
       "      <td>36176</td>\n",
       "      <td>1194</td>\n",
       "    </tr>\n",
       "    <tr>\n",
       "      <th>music</th>\n",
       "      <td>7026300</td>\n",
       "      <td>7480097</td>\n",
       "      <td>129002</td>\n",
       "    </tr>\n",
       "  </tbody>\n",
       "</table>\n",
       "</div>"
      ],
      "text/plain": [
       "                 goal  pledged  backers_count\n",
       "category                                     \n",
       "film & video  8744700  7510076         121875\n",
       "food          1921300  1735179          28846\n",
       "games         2858000  2015817          37662\n",
       "journalism      25700    36176           1194\n",
       "music         7026300  7480097         129002"
      ]
     },
     "execution_count": 38,
     "metadata": {},
     "output_type": "execute_result"
    }
   ],
   "source": [
    "# Lets find out the categories and count of pledges each of them got:\n",
    "pledged_category = df.groupby(by='category').sum(numeric_only=True)\n",
    "\n",
    "pledged_category.head()"
   ]
  },
  {
   "cell_type": "code",
   "execution_count": 39,
   "id": "4fdc291d-e1e2-4920-86ff-15d740371b91",
   "metadata": {},
   "outputs": [
    {
     "data": {
      "text/plain": [
       "<Axes: xlabel='category'>"
      ]
     },
     "execution_count": 39,
     "metadata": {},
     "output_type": "execute_result"
    },
    {
     "data": {
      "image/png": "[encoded data removed]",
      "text/plain": [
       "<Figure size 640x480 with 1 Axes>"
      ]
     },
     "metadata": {},
     "output_type": "display_data"
    }
   ],
   "source": [
    "# plotting the above derived information :\n",
    "pledged_category.plot(kind = 'bar')"
   ]
  },
  {
   "cell_type": "code",
   "execution_count": 40,
   "id": "9f62ac25-7b7e-45aa-b6c4-f637651b6f1f",
   "metadata": {},
   "outputs": [],
   "source": [
    "# A little feature engineering on the side to study the effect of campaign duration on pledges:\n",
    "df.launch_date = pd.to_datetime(df.launch_date)\n",
    "\n",
    "df.end_date = pd.to_datetime(df.end_date)"
   ]
  },
  {
   "cell_type": "code",
   "execution_count": 41,
   "id": "28aedefa-29bd-4e52-a4ff-151e7cffbefd",
   "metadata": {},
   "outputs": [
    {
     "data": {
      "text/html": [
       "<div>\n",
       "<style scoped>\n",
       "    .dataframe tbody tr th:only-of-type {\n",
       "        vertical-align: middle;\n",
       "    }\n",
       "\n",
       "    .dataframe tbody tr th {\n",
       "        vertical-align: top;\n",
       "    }\n",
       "\n",
       "    .dataframe thead th {\n",
       "        text-align: right;\n",
       "    }\n",
       "</style>\n",
       "<table border=\"1\" class=\"dataframe\">\n",
       "  <thead>\n",
       "    <tr style=\"text-align: right;\">\n",
       "      <th></th>\n",
       "      <th>company_name</th>\n",
       "      <th>goal</th>\n",
       "      <th>pledged</th>\n",
       "      <th>outcome</th>\n",
       "      <th>backers_count</th>\n",
       "      <th>country</th>\n",
       "      <th>launch_date</th>\n",
       "      <th>end_date</th>\n",
       "      <th>category</th>\n",
       "      <th>subcategory</th>\n",
       "      <th>duration</th>\n",
       "    </tr>\n",
       "  </thead>\n",
       "  <tbody>\n",
       "    <tr>\n",
       "      <th>0</th>\n",
       "      <td>Baldwin, Riley and Jackson</td>\n",
       "      <td>100</td>\n",
       "      <td>0</td>\n",
       "      <td>failed</td>\n",
       "      <td>0</td>\n",
       "      <td>CA</td>\n",
       "      <td>2020-02-13</td>\n",
       "      <td>2021-03-01</td>\n",
       "      <td>food</td>\n",
       "      <td>food trucks</td>\n",
       "      <td>382 days</td>\n",
       "    </tr>\n",
       "    <tr>\n",
       "      <th>1</th>\n",
       "      <td>Odom Inc</td>\n",
       "      <td>1400</td>\n",
       "      <td>14560</td>\n",
       "      <td>successful</td>\n",
       "      <td>158</td>\n",
       "      <td>US</td>\n",
       "      <td>2021-01-25</td>\n",
       "      <td>2021-05-25</td>\n",
       "      <td>music</td>\n",
       "      <td>rock</td>\n",
       "      <td>120 days</td>\n",
       "    </tr>\n",
       "  </tbody>\n",
       "</table>\n",
       "</div>"
      ],
      "text/plain": [
       "                 company_name  goal  pledged     outcome  backers_count  \\\n",
       "0  Baldwin, Riley and Jackson   100        0      failed              0   \n",
       "1                    Odom Inc  1400    14560  successful            158   \n",
       "\n",
       "  country launch_date   end_date category  subcategory  duration  \n",
       "0      CA  2020-02-13 2021-03-01     food  food trucks  382 days  \n",
       "1      US  2021-01-25 2021-05-25    music         rock  120 days  "
      ]
     },
     "execution_count": 41,
     "metadata": {},
     "output_type": "execute_result"
    }
   ],
   "source": [
    "# Lets see if duration between launch date and end date have any impact ;\n",
    "df['duration'] = (df.end_date -df.launch_date).astype(str)\n",
    "\n",
    "df.head(2)"
   ]
  },
  {
   "cell_type": "code",
   "execution_count": 42,
   "id": "44f9477d-2434-4dcb-9127-b41ffac81142",
   "metadata": {},
   "outputs": [],
   "source": [
    "df.duration = df.duration.str.replace(' days','')\n",
    "df.duration = df.duration.astype(int)"
   ]
  },
  {
   "cell_type": "code",
   "execution_count": 51,
   "id": "9af6754d-3bdb-45a2-926c-674a48f8b756",
   "metadata": {},
   "outputs": [
    {
     "data": {
      "image/png": "[encoded data removed]",
      "text/plain": [
       "<Figure size 800x400 with 2 Axes>"
      ]
     },
     "metadata": {},
     "output_type": "display_data"
    }
   ],
   "source": [
    "# Plotting the countries and the number of pledges to figure out which country had the greatest number:\n",
    "col_plot = ['country','outcome']\n",
    "\n",
    "fig,axs = plt.subplots(nrows=1,ncols=2,figsize=(8,4))\n",
    "axs = axs.flatten()\n",
    "for i,x in enumerate(col_plot):\n",
    "    sns.countplot(data=df,x=x,ax=axs[i])\n",
    "plt.tight_layout()\n",
    "plt.yscale('log')\n",
    "plt.show()"
   ]
  },
  {
   "cell_type": "code",
   "execution_count": 52,
   "id": "97d81fa9-d833-4e66-bc18-35b565f089e7",
   "metadata": {},
   "outputs": [
    {
     "data": {
      "text/html": [
       "<div>\n",
       "<style scoped>\n",
       "    .dataframe tbody tr th:only-of-type {\n",
       "        vertical-align: middle;\n",
       "    }\n",
       "\n",
       "    .dataframe tbody tr th {\n",
       "        vertical-align: top;\n",
       "    }\n",
       "\n",
       "    .dataframe thead th {\n",
       "        text-align: right;\n",
       "    }\n",
       "</style>\n",
       "<table border=\"1\" class=\"dataframe\">\n",
       "  <thead>\n",
       "    <tr style=\"text-align: right;\">\n",
       "      <th></th>\n",
       "      <th>company_name</th>\n",
       "      <th>goal</th>\n",
       "      <th>pledged</th>\n",
       "      <th>outcome</th>\n",
       "      <th>backers_count</th>\n",
       "      <th>country</th>\n",
       "      <th>launch_date</th>\n",
       "      <th>end_date</th>\n",
       "      <th>category</th>\n",
       "      <th>subcategory</th>\n",
       "      <th>duration</th>\n",
       "    </tr>\n",
       "    <tr>\n",
       "      <th>bin_duration</th>\n",
       "      <th></th>\n",
       "      <th></th>\n",
       "      <th></th>\n",
       "      <th></th>\n",
       "      <th></th>\n",
       "      <th></th>\n",
       "      <th></th>\n",
       "      <th></th>\n",
       "      <th></th>\n",
       "      <th></th>\n",
       "      <th></th>\n",
       "    </tr>\n",
       "  </thead>\n",
       "  <tbody>\n",
       "    <tr>\n",
       "      <th>short</th>\n",
       "      <td>192</td>\n",
       "      <td>192</td>\n",
       "      <td>192</td>\n",
       "      <td>192</td>\n",
       "      <td>192</td>\n",
       "      <td>192</td>\n",
       "      <td>192</td>\n",
       "      <td>192</td>\n",
       "      <td>192</td>\n",
       "      <td>192</td>\n",
       "      <td>192</td>\n",
       "    </tr>\n",
       "    <tr>\n",
       "      <th>medium</th>\n",
       "      <td>221</td>\n",
       "      <td>221</td>\n",
       "      <td>221</td>\n",
       "      <td>221</td>\n",
       "      <td>221</td>\n",
       "      <td>221</td>\n",
       "      <td>221</td>\n",
       "      <td>221</td>\n",
       "      <td>221</td>\n",
       "      <td>221</td>\n",
       "      <td>221</td>\n",
       "    </tr>\n",
       "    <tr>\n",
       "      <th>long</th>\n",
       "      <td>182</td>\n",
       "      <td>182</td>\n",
       "      <td>182</td>\n",
       "      <td>182</td>\n",
       "      <td>182</td>\n",
       "      <td>182</td>\n",
       "      <td>182</td>\n",
       "      <td>182</td>\n",
       "      <td>182</td>\n",
       "      <td>182</td>\n",
       "      <td>182</td>\n",
       "    </tr>\n",
       "    <tr>\n",
       "      <th>very_long</th>\n",
       "      <td>186</td>\n",
       "      <td>186</td>\n",
       "      <td>186</td>\n",
       "      <td>186</td>\n",
       "      <td>186</td>\n",
       "      <td>186</td>\n",
       "      <td>186</td>\n",
       "      <td>186</td>\n",
       "      <td>186</td>\n",
       "      <td>186</td>\n",
       "      <td>186</td>\n",
       "    </tr>\n",
       "    <tr>\n",
       "      <th>extended</th>\n",
       "      <td>180</td>\n",
       "      <td>180</td>\n",
       "      <td>180</td>\n",
       "      <td>180</td>\n",
       "      <td>180</td>\n",
       "      <td>180</td>\n",
       "      <td>180</td>\n",
       "      <td>180</td>\n",
       "      <td>180</td>\n",
       "      <td>180</td>\n",
       "      <td>180</td>\n",
       "    </tr>\n",
       "  </tbody>\n",
       "</table>\n",
       "</div>"
      ],
      "text/plain": [
       "              company_name  goal  pledged  outcome  backers_count  country  \\\n",
       "bin_duration                                                                 \n",
       "short                  192   192      192      192            192      192   \n",
       "medium                 221   221      221      221            221      221   \n",
       "long                   182   182      182      182            182      182   \n",
       "very_long              186   186      186      186            186      186   \n",
       "extended               180   180      180      180            180      180   \n",
       "\n",
       "              launch_date  end_date  category  subcategory  duration  \n",
       "bin_duration                                                          \n",
       "short                 192       192       192          192       192  \n",
       "medium                221       221       221          221       221  \n",
       "long                  182       182       182          182       182  \n",
       "very_long             186       186       186          186       186  \n",
       "extended              180       180       180          180       180  "
      ]
     },
     "execution_count": 52,
     "metadata": {},
     "output_type": "execute_result"
    }
   ],
   "source": [
    "# Feature Enginnering number two cateorizing our duration data in order to study the effecty :\n",
    "bins = list(np.arange(0,380,75))\n",
    "labels = ['short','medium','long','very_long','extended']\n",
    "df['bin_duration'] = pd.cut(df.duration,bins=bins,labels=labels)\n",
    "duration_pleadges = df.groupby(by='bin_duration').count()\n",
    "duration_pleadges"
   ]
  },
  {
   "cell_type": "code",
   "execution_count": 54,
   "id": "2c31db98-23f0-427e-bdc3-19dd94d57569",
   "metadata": {},
   "outputs": [
    {
     "data": {
      "image/png": "[encoded data removed]",
      "text/plain": [
       "<Figure size 640x480 with 1 Axes>"
      ]
     },
     "metadata": {},
     "output_type": "display_data"
    }
   ],
   "source": [
    "# Visualizing the engineered data:\n",
    "plt.bar(x=duration_pleadges.index,height='pledged',data=duration_pleadges)\n",
    "plt.yscale('log')\n",
    "plt.show()"
   ]
  },
  {
   "cell_type": "code",
   "execution_count": 56,
   "id": "302554d9-16b0-439b-8f67-ed7b617500ac",
   "metadata": {},
   "outputs": [
    {
     "data": {
      "text/plain": [
       "<Axes: xlabel='outcome'>"
      ]
     },
     "execution_count": 56,
     "metadata": {},
     "output_type": "execute_result"
    },
    {
     "data": {
      "image/png": "[encoded data removed]",
      "text/plain": [
       "<Figure size 640x480 with 1 Axes>"
      ]
     },
     "metadata": {},
     "output_type": "display_data"
    }
   ],
   "source": [
    "# Studying outcomes of the pledges against the total goal, pledged, backers count and duration\n",
    "outcomes = df.groupby(by='outcome').sum(numeric_only=True)\n",
    "\n",
    "outcomes.plot(kind='bar',logy=True)"
   ]
  },
  {
   "cell_type": "code",
   "execution_count": 58,
   "id": "68f336b5-e0a9-4205-9e8f-8da56bccf7f0",
   "metadata": {},
   "outputs": [
    {
     "data": {
      "image/png": "[encoded data removed]",
      "text/plain": [
       "<Figure size 1500x1500 with 2 Axes>"
      ]
     },
     "metadata": {},
     "output_type": "display_data"
    }
   ],
   "source": [
    "# Visualizing the outcome distribution  and country distribution: \n",
    "category = ['outcome','country']\n",
    "\n",
    "fig,axs = plt.subplots(nrows=1,ncols=2,figsize=(15,15))\n",
    "axs = axs.flatten()\n",
    "for i, x in enumerate(category):\n",
    "    if i < len(axs):\n",
    "        counts = df[x].value_counts()\n",
    "        axs[i].pie(counts,labels=counts.index,autopct='%1.1f%%',startangle=90)\n",
    "        axs[i].set_title(f'{x} Distribution')\n",
    "fig.tight_layout()\n",
    "plt.show()"
   ]
  },
  {
   "cell_type": "markdown",
   "id": "46122546-efd0-4b4d-983e-7c7671fafe60",
   "metadata": {},
   "source": [
    "### Now its time for Statistical Analysis:"
   ]
  },
  {
   "cell_type": "code",
   "execution_count": 63,
   "id": "f5ccf85a-323a-4f8e-93ce-b19861e989ab",
   "metadata": {},
   "outputs": [
    {
     "data": {
      "text/plain": [
       "<Axes: >"
      ]
     },
     "execution_count": 63,
     "metadata": {},
     "output_type": "execute_result"
    },
    {
     "data": {
      "image/png": "[encoded data removed]",
      "text/plain": [
       "<Figure size 640x480 with 2 Axes>"
      ]
     },
     "metadata": {},
     "output_type": "display_data"
    }
   ],
   "source": [
    "# Lets see if there are any meaningful correlations:\n",
    "sns.heatmap(df.corr())"
   ]
  },
  {
   "cell_type": "code",
   "execution_count": 84,
   "id": "0b523c7e-979c-4d7d-b989-f8009a0ee43e",
   "metadata": {},
   "outputs": [
    {
     "data": {
      "image/png": "[encoded data removed]",
      "text/plain": [
       "<Figure size 640x480 with 1 Axes>"
      ]
     },
     "metadata": {},
     "output_type": "display_data"
    }
   ],
   "source": [
    "# Lets Study the spread of our pledges:\n",
    "plt.boxplot(df.pledged,vert=False)\n",
    "plt.plot(df.pledged.median(),1,'ro',label='Median')\n",
    "plt.plot(df.pledged.quantile(0.25),1,'bo',label='q1')\n",
    "plt.plot(df.pledged.quantile(0.75),1,'go',label='q3')\n",
    "plt.plot(df.pledged.min(),1,'yo',label='Min')\n",
    "plt.plot(df.pledged.max(),1,'co',label='Max')\n",
    "plt.title('Box Plot')\n",
    "plt.ylabel('Pledges vs their amount')\n",
    "plt.show()"
   ]
  },
  {
   "cell_type": "code",
   "execution_count": 86,
   "id": "e335b5df-d756-4b6a-a6c3-7d659269066d",
   "metadata": {},
   "outputs": [
    {
     "data": {
      "image/png": "[encoded data removed]",
      "text/plain": [
       "<Figure size 640x480 with 1 Axes>"
      ]
     },
     "metadata": {},
     "output_type": "display_data"
    }
   ],
   "source": [
    "plt.hist(df.pledged, bins=10, color='cyan', edgecolor='black')\n",
    "\n",
    "# Customize the plot\n",
    "plt.title('pledges and their amount')\n",
    "plt.xlabel('Pledged Amount')\n",
    "plt.ylabel('Number of Pledges')\n",
    "plt.yscale('log')\n",
    "\n",
    "# Display the plot\n",
    "plt.show()"
   ]
  },
  {
   "cell_type": "code",
   "execution_count": 85,
   "id": "a561f105-cacd-4731-b2bf-633c198814b4",
   "metadata": {},
   "outputs": [
    {
     "data": {
      "image/png": "[encoded data removed]",
      "text/plain": [
       "<Figure size 640x480 with 1 Axes>"
      ]
     },
     "metadata": {},
     "output_type": "display_data"
    }
   ],
   "source": [
    "# To see if there is any correlation with the number of backers and amount pledged:\n",
    "sns.regplot(x = df.pledged,y = df.backers_count,line_kws={'color':'red'})\n",
    "plt.xlabel('Pledgesd amount')\n",
    "plt.ylabel('Count of backers')\n",
    "plt.show()"
   ]
  },
  {
   "cell_type": "code",
   "execution_count": 87,
   "id": "f5346fb5-24d9-4fd5-9918-2fc91bb9c167",
   "metadata": {},
   "outputs": [],
   "source": [
    "# These findings are now to be presented to the stake holders."
   ]
  },
  {
   "cell_type": "code",
   "execution_count": null,
   "id": "6ac5e6bf-7834-4896-a924-470f4c59dac3",
   "metadata": {},
   "outputs": [],
   "source": []
  }
 ],
 "metadata": {
  "kernelspec": {
   "display_name": "Python 3 (ipykernel)",
   "language": "python",
   "name": "python3"
  },
  "language_info": {
   "codemirror_mode": {
    "name": "ipython",
    "version": 3
   },
   "file_extension": ".py",
   "mimetype": "text/x-python",
   "name": "python",
   "nbconvert_exporter": "python",
   "pygments_lexer": "ipython3",
   "version": "3.9.15"
  }
 },
 "nbformat": 4,
 "nbformat_minor": 5
}
